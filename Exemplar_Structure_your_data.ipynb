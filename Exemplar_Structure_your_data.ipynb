{
  "metadata": {
    "kernelspec": {
      "display_name": "Python 3",
      "language": "python",
      "name": "python3"
    },
    "language_info": {
      "codemirror_mode": {
        "name": "ipython",
        "version": 3
      },
      "file_extension": ".py",
      "mimetype": "text/x-python",
      "name": "python",
      "nbconvert_exporter": "python",
      "pygments_lexer": "ipython3",
      "version": "3.7.6"
    },
    "colab": {
      "provenance": [],
      "toc_visible": true,
      "include_colab_link": true
    },
    "toc-autonumbering": false,
    "toc-showtags": false
  },
  "nbformat_minor": 0,
  "nbformat": 4,
  "cells": [
    {
      "cell_type": "markdown",
      "metadata": {
        "id": "view-in-github",
        "colab_type": "text"
      },
      "source": [
        "<a href=\"https://colab.research.google.com/github/pallmallking/Exemplar_Structure_your_data.ipynb/blob/main/Exemplar_Structure_your_data.ipynb\" target=\"_parent\"><img src=\"https://colab.research.google.com/assets/colab-badge.svg\" alt=\"Open In Colab\"/></a>"
      ]
    },
    {
      "cell_type": "markdown",
      "source": [
        "# Exemplar: Structure your data"
      ],
      "metadata": {
        "id": "1WD1hC5MTRMS",
        "azdata_cell_guid": "741b16bf-7c92-4357-a48f-9dbb0fefe000"
      }
    },
    {
      "cell_type": "markdown",
      "source": [
        "## Introduction\n",
        "\n",
        "In this activity, you will practice structuring, an **exploratory data analysis (EDA)** step that helps data science projects move forward. During EDA, when working with data that contains aspects of date and time, \"datetime\" transformations are integral to better understanding the data. As a data professional, you will encounter datetime transformations quite often as you determine how to format your data to suit the problems you want to solve or the questions you want to answer. This activity gives you an opportunity to apply these skills and prepare you for future EDA, where you will need to determine how best to structure your data.\n",
        "\n",
        "In this activity, you are a member of an analytics team that provides insights to an investing firm. To help them decide which companies to invest in next, the firm wants insights into **unicorn companies**–companies that are valued at over one billion dollars.  \n",
        "\n",
        "You will work with a dataset about unicorn companies, discovering characteristics of the data, structuring the data in ways that will help you draw meaningful insights, and using visualizations to analyze the data. Ultimately, you will draw conclusions about what significant trends or patterns you find in the dataset. This will develop your skills in EDA and your knowledge of functions that allow you to structure data.\n",
        "\n",
        "\n"
      ],
      "metadata": {
        "id": "ee31943b-274e-4c28-bce6-155cb6f4c334",
        "azdata_cell_guid": "c1fba513-dbfc-4e96-9f53-f9d2b010367f"
      }
    },
    {
      "cell_type": "markdown",
      "source": [
        "## Step 1: Imports"
      ],
      "metadata": {
        "id": "4bb9630e-b940-4835-a389-d39def1fa848",
        "azdata_cell_guid": "c0c34dd3-1535-487a-ac42-471ec78e6020"
      }
    },
    {
      "cell_type": "markdown",
      "source": [
        "### Import relevant libraries and modules\n",
        "\n",
        "Import the relevant Python libraries and modules that you will need to use. In this activity, you will use `pandas`, `numpy`, `seaborn`, and `matplotlib.pyplot`."
      ],
      "metadata": {
        "id": "bc180686-4ae2-47ea-a292-3588ac60a820",
        "azdata_cell_guid": "69f5cb2b-af9d-4b66-a5d4-09f729581ad0"
      }
    },
    {
      "cell_type": "code",
      "source": [
        "# Import the relevant Python libraries and modules needed in this lab.\n",
        "\n",
        "### YOUR CODE HERE ###\n",
        "\n",
        "import pandas as pd\n",
        "import numpy as np\n",
        "import seaborn as sns\n",
        "import matplotlib.pyplot as plt"
      ],
      "metadata": {
        "id": "8e7f1f2c-bbcc-4f3c-b927-b090ee8334c4",
        "azdata_cell_guid": "b28cd493-59bb-41bc-aa76-3a02ac96dd89",
        "language": "python"
      },
      "outputs": [],
      "execution_count": null
    },
    {
      "cell_type": "markdown",
      "source": [
        "### Load the dataset into a DataFrame\n",
        "\n",
        "The dataset provided is in the form of a csv file named `Unicorn_Companies.csv` and contains a subset of data on unicorn companies. Load the dataset into a DataFrame."
      ],
      "metadata": {
        "id": "7d29c6bd-f194-46bb-b794-56dc20130473",
        "azdata_cell_guid": "aca96aa3-6cac-4792-bd53-67331c21f396"
      }
    },
    {
      "cell_type": "code",
      "source": [
        "# Load the dataset provided into a DataFrame.\n",
        "\n",
        "### YOUR CODE HERE ###\n",
        "\n",
        "companies = pd.read_csv(\"/content/drive/MyDrive/Colab Notebooks/Unicorn_Companies.csv\")"
      ],
      "metadata": {
        "id": "3bd40d44-080f-4e49-b0c2-160dedc3c4df",
        "azdata_cell_guid": "44e5a5b2-899c-4fc1-9385-0b9599fd2332",
        "language": "python"
      },
      "outputs": [],
      "execution_count": null
    },
    {
      "cell_type": "code",
      "source": [
        "from google.colab import drive\n",
        "drive.mount('/content/drive')"
      ],
      "metadata": {
        "id": "FcW98EJT0bwE"
      },
      "execution_count": null,
      "outputs": []
    },
    {
      "cell_type": "markdown",
      "source": [
        "## Step 2: Data exploration\n"
      ],
      "metadata": {
        "id": "95bf39c9-d05c-4324-a40b-bc692607b61b",
        "azdata_cell_guid": "ac520ef5-68bd-4199-ac92-78a2f5abbfa6"
      }
    },
    {
      "cell_type": "markdown",
      "source": [
        "### Display the first 10 rows of the data\n",
        "\n",
        "In this section, you will discover what the dataset entails and answer questions to guide your exploration and analysis of the data. This is an important step in EDA.\n",
        "\n",
        "To begin, display the first 10 rows of the data to get an understanding of how the dataset is structured."
      ],
      "metadata": {
        "id": "pEeiG2M76OLH",
        "azdata_cell_guid": "56a4977e-da7b-40d8-9b5a-3d77122e63d6"
      }
    },
    {
      "cell_type": "code",
      "source": [
        "# Display the first 10 rows of the data.\n",
        "\n",
        "### YOUR CODE HERE\n",
        "\n",
        "companies.head(10)"
      ],
      "metadata": {
        "id": "ad5210a5-7a64-4991-b004-de818cfaf506",
        "azdata_cell_guid": "c29c630d-297a-4547-8a0c-c1947aa0b5e8",
        "language": "python"
      },
      "outputs": [],
      "execution_count": null
    },
    {
      "source": [
        "# @title Year Founded\n",
        "\n",
        "from matplotlib import pyplot as plt\n",
        "companies['Year Founded'].plot(kind='line', figsize=(8, 4), title='Year Founded')\n",
        "plt.gca().spines[['top', 'right']].set_visible(False)"
      ],
      "cell_type": "code",
      "execution_count": null,
      "outputs": [],
      "metadata": {
        "id": "WzkOCLq7JWXr"
      }
    },
    {
      "source": [
        "from google.colab import sheets\n",
        "sheet = sheets.InteractiveSheet(df=companies)"
      ],
      "cell_type": "code",
      "execution_count": null,
      "outputs": [],
      "metadata": {
        "cellView": "form",
        "id": "KmZDB2NTI6rt"
      }
    },
    {
      "source": [
        "# @title Continent vs Year Founded\n",
        "\n",
        "from matplotlib import pyplot as plt\n",
        "import seaborn as sns\n",
        "figsize = (12, 1.2 * len(companies['Continent'].unique()))\n",
        "plt.figure(figsize=figsize)\n",
        "sns.violinplot(companies, x='Year Founded', y='Continent', inner='box', palette='Dark2')\n",
        "sns.despine(top=True, right=True, bottom=True, left=True)"
      ],
      "cell_type": "code",
      "execution_count": null,
      "outputs": [],
      "metadata": {
        "id": "xHlTTy4yIt4d"
      }
    },
    {
      "cell_type": "markdown",
      "source": [
        "<details>\n",
        "  <summary><h4><strong>Hint 1</strong></h4></summary>\n",
        "\n",
        "Refer to [the content about exploratory data analysis in Python](https://www.coursera.org/learn/go-beyond-the-numbers-translate-data-into-insight/lecture/kfl9b/find-stories-using-the-six-exploratory-data-analysis-practices).\n",
        "\n",
        "</details>"
      ],
      "metadata": {
        "id": "49881dfd-4532-424f-9729-f5378d984df0",
        "jp-MarkdownHeadingCollapsed": true,
        "tags": [],
        "azdata_cell_guid": "60abc225-d287-4e0f-a415-4864ca1cbee0"
      }
    },
    {
      "cell_type": "markdown",
      "source": [
        "<details>\n",
        "  <summary><h4><strong>Hint 2</strong></h4></summary>\n",
        "\n",
        "Use the function in the `pandas` library that allows you to get a specific number of rows from the top of a DataFrame.\n",
        "\n",
        "\n",
        "</details>"
      ],
      "metadata": {
        "id": "k2QxFOi9HW1Q",
        "jp-MarkdownHeadingCollapsed": true,
        "tags": [],
        "azdata_cell_guid": "7e6ea46a-86ab-4f8b-a305-ba15d1232fab"
      }
    },
    {
      "cell_type": "markdown",
      "source": [
        "<details>\n",
        "  <summary><h4><strong>Hint 3</strong></h4></summary>\n",
        "\n",
        "Call the `head()` function from the `pandas` library and pass in the number of rows you want from the top of the DataFrame.\n",
        "\n",
        "</details>"
      ],
      "metadata": {
        "id": "ptkclWFzHjHv",
        "jp-MarkdownHeadingCollapsed": true,
        "tags": [],
        "azdata_cell_guid": "a1ac9820-9797-43e2-a081-1a0294871ab4"
      }
    },
    {
      "cell_type": "markdown",
      "source": [
        "### Identify the number of rows and columns\n",
        "\n",
        "Identify the number of rows and columns in the dataset. This will help you get a sense of how much data you are working with."
      ],
      "metadata": {
        "id": "e31095a6-5526-42d3-b1c0-b77c1f8b3852",
        "azdata_cell_guid": "233abc59-929b-4c0d-807b-f54bbc3cfc27"
      }
    },
    {
      "cell_type": "code",
      "source": [
        "# Identify the number of rows and columns in the dataset.\n",
        "\n",
        "### YOUR CODE HERE ###\n",
        "\n",
        "companies.shape"
      ],
      "metadata": {
        "id": "df3c71a1-2519-4c50-86c2-63902a534d27",
        "azdata_cell_guid": "78a49cc9-278c-4e5b-be5f-9c9d1a070d49",
        "language": "python"
      },
      "outputs": [],
      "execution_count": null
    },
    {
      "cell_type": "markdown",
      "source": [
        "<details>\n",
        "  <summary><h4><strong>Hint 1</strong></h4></summary>\n",
        "\n",
        "Refer to [the content about exploratory data analysis in Python](https://www.coursera.org/learn/go-beyond-the-numbers-translate-data-into-insight/lecture/kfl9b/find-stories-using-the-six-exploratory-data-analysis-practices).\n",
        "\n",
        "</details>"
      ],
      "metadata": {
        "id": "-BS8MzFiu2hD",
        "jp-MarkdownHeadingCollapsed": true,
        "tags": [],
        "azdata_cell_guid": "d01244da-3c65-4ac5-af30-2ef822c753db"
      }
    },
    {
      "cell_type": "markdown",
      "source": [
        "<details>\n",
        "  <summary><h4><strong>Hint 2</strong></h4></summary>\n",
        "\n",
        "Use the property that DataFrames in `pandas` have to display the number of rows and the number of columns as a tuple.\n",
        "\n",
        "</details>"
      ],
      "metadata": {
        "id": "WtQIWoeMu2hE",
        "jp-MarkdownHeadingCollapsed": true,
        "tags": [],
        "azdata_cell_guid": "64302462-4460-4724-a02a-077b4f9dc670"
      }
    },
    {
      "cell_type": "markdown",
      "source": [
        "<details>\n",
        "  <summary><h4><strong>Hint 3</strong></h4></summary>\n",
        "\n",
        "The `shape` property that DataFrames have can help.\n",
        "\n",
        "</details>"
      ],
      "metadata": {
        "id": "f0cMU_Mqu2hF",
        "jp-MarkdownHeadingCollapsed": true,
        "tags": [],
        "azdata_cell_guid": "dfce024e-6954-4fd6-b679-51ad92bc75d1"
      }
    },
    {
      "cell_type": "markdown",
      "source": [
        "**Question:** How many rows and columns are in the dataset? How many unicorn companies are there? How many aspects are shown for each company?\n",
        "\n",
        "- There are 1074 rows and 10 columns in the dataset.\n",
        "- According to this dataset, there are 1074 unicorn companies, as of March 2022.\n",
        "- This dataset shows 10 aspects of each company."
      ],
      "metadata": {
        "id": "4c2998a8-f864-43eb-a2d5-64845ebc805c",
        "azdata_cell_guid": "9d5d7537-72c9-47df-9e98-152dcf5bbe2b"
      }
    },
    {
      "cell_type": "markdown",
      "source": [
        "### Check for duplicates in the data"
      ],
      "metadata": {
        "id": "H_ot-KEQ_YAH",
        "azdata_cell_guid": "18a57c41-d22e-42df-9cf8-9f9f27ff44a6"
      }
    },
    {
      "cell_type": "code",
      "source": [
        "# Check for duplicates.\n",
        "\n",
        "### YOUR CODE HERE ###\n",
        "\n",
        "companies.drop_duplicates().shape"
      ],
      "metadata": {
        "id": "3eT0fgc__MY9",
        "azdata_cell_guid": "9ed400e6-d033-467f-a838-0437fe717534",
        "language": "python"
      },
      "outputs": [],
      "execution_count": null
    },
    {
      "cell_type": "markdown",
      "source": [
        "<details>\n",
        "  <summary><h4><strong>Hint 1</strong></h4></summary>\n",
        "\n",
        "Refer to [the content about exploratory data analysis in Python](https://www.coursera.org/learn/go-beyond-the-numbers-translate-data-into-insight/lecture/kfl9b/find-stories-using-the-six-exploratory-data-analysis-practices).\n",
        "\n",
        "</details>"
      ],
      "metadata": {
        "id": "5XLziTHPAZkn",
        "jp-MarkdownHeadingCollapsed": true,
        "tags": [],
        "azdata_cell_guid": "1cfc4cc1-c39f-4338-b47a-3b39abb9b44f"
      }
    },
    {
      "cell_type": "markdown",
      "source": [
        "<details>\n",
        "  <summary><h4><strong>Hint 2</strong></h4></summary>\n",
        "\n",
        "Use the function in `pandas` that can be called on a DataFrame to return the same DataFrame but with duplicates removed.\n",
        "\n",
        "Use property that DataFrames in `pandas` have that to display the number of rows and columns as a tuple.\n",
        "\n",
        "</details>"
      ],
      "metadata": {
        "id": "zYuUTbHgAZkp",
        "jp-MarkdownHeadingCollapsed": true,
        "tags": [],
        "azdata_cell_guid": "9c8ea56e-98f0-4d31-b271-0588730e40b0"
      }
    },
    {
      "cell_type": "markdown",
      "source": [
        "<details>\n",
        "  <summary><h4><strong>Hint 3</strong></h4></summary>\n",
        "\n",
        "Call the `drop_duplicates()` function on `companies`, followed by calling the `shape` property.\n",
        "\n",
        "Compare the shape that is returned from this to the original shape of `companies`, which you identified previously.\n",
        "\n",
        "</details>"
      ],
      "metadata": {
        "id": "oi-zzNBGAZkp",
        "jp-MarkdownHeadingCollapsed": true,
        "tags": [],
        "azdata_cell_guid": "24fdd05d-4044-469a-a852-72250b9e0a19"
      }
    },
    {
      "cell_type": "markdown",
      "source": [
        "**Question:** Based on the preceding output, are there any duplicates in the dataset?\n",
        "\n",
        "- Since the shape that is returned after dropping duplicates is the same as the shape of the original DataFrame, you can infer that there are no duplicate values in the dataset."
      ],
      "metadata": {
        "id": "-6S3zT-l_ydL",
        "azdata_cell_guid": "a1b7bbea-9b75-4002-8039-e689581f4d61"
      }
    },
    {
      "cell_type": "markdown",
      "source": [
        "### Display the data types of the columns\n",
        "\n",
        "Knowing the data types of the columns is helpful because it indicates what types of analysis and aggregation can be done, how a column can be transformed to suit specific tasks, and so on. Display the data types of the columns."
      ],
      "metadata": {
        "id": "fgD6IfeBsNW8",
        "azdata_cell_guid": "234d8d71-3e10-46f9-908e-2e7767e878ae"
      }
    },
    {
      "cell_type": "code",
      "source": [
        "# Display the data types of the columns.\n",
        "\n",
        "### YOUR CODE HERE ###\n",
        "\n",
        "companies.dtypes"
      ],
      "metadata": {
        "id": "PjO2hGK2r8vN",
        "azdata_cell_guid": "fb1d9a6b-6c00-4a1a-85ce-3e29fb41de4b",
        "language": "python"
      },
      "outputs": [],
      "execution_count": null
    },
    {
      "cell_type": "markdown",
      "source": [
        "<details>\n",
        "  <summary><h4><strong>Hint 1</strong></h4></summary>\n",
        "\n",
        "Refer to [the content about exploratory data analysis in Python](https://www.coursera.org/learn/go-beyond-the-numbers-translate-data-into-insight/lecture/kfl9b/find-stories-using-the-six-exploratory-data-analysis-practices).\n",
        "\n",
        "</details>"
      ],
      "metadata": {
        "id": "rDrbzQlhkB5F",
        "jp-MarkdownHeadingCollapsed": true,
        "tags": [],
        "azdata_cell_guid": "3c0c8a75-e50b-47e5-9a3c-b6b0515b6fd5"
      }
    },
    {
      "cell_type": "markdown",
      "source": [
        "<details>\n",
        "  <summary><h4><strong>Hint 2</strong></h4></summary>\n",
        "\n",
        "Use the property that DataFrames in `pandas` have to display the data types of the columns in the specified DataFrame.\n",
        "\n",
        "\n",
        "</details>"
      ],
      "metadata": {
        "id": "iBciSHO2kB5H",
        "jp-MarkdownHeadingCollapsed": true,
        "tags": [],
        "azdata_cell_guid": "0a274c9f-d040-4747-9464-c2e6f997c77c"
      }
    },
    {
      "cell_type": "markdown",
      "source": [
        "<details>\n",
        "  <summary><h4><strong>Hint 3</strong></h4></summary>\n",
        "\n",
        "The `dtypes` property that DataFrames have can help.\n",
        "\n",
        "</details>"
      ],
      "metadata": {
        "id": "kyq_H95zkB5I",
        "jp-MarkdownHeadingCollapsed": true,
        "tags": [],
        "azdata_cell_guid": "750de643-a9ff-445d-9899-e7dd48601818"
      }
    },
    {
      "cell_type": "markdown",
      "source": [
        "**Question:** What do you notice about the data types of the columns in the dataset?\n",
        "\n",
        "- The data type of the `Year Founded` column is `int64`.\n",
        "- The rest of the columns have the data type `object`."
      ],
      "metadata": {
        "id": "bd6573bc-2adb-410e-a85c-d6d5886d51bf",
        "azdata_cell_guid": "b3eec54a-ff0b-4ed2-a63c-460d522396fe"
      }
    },
    {
      "cell_type": "markdown",
      "source": [
        "**Question:** How would you sort this dataset in order to get insights about when the companies were founded? Then, how would you arrange the data from companies that were founded the earliest to companies that were founded the latest?\n",
        "\n",
        "- Sort by `Year Founded`.\n",
        "  - Sort by `Year Founded` in ascending order to arrange the data from companies that were founded the earliest to companies that were founded the latest."
      ],
      "metadata": {
        "id": "cAfmH6tjHYiq",
        "azdata_cell_guid": "9a1b2ce8-6ec9-4e86-bd8b-39ce327cac1e"
      }
    },
    {
      "cell_type": "markdown",
      "source": [
        "### Sort the data\n",
        "\n",
        "In this section, you will continue your exploratory data analysis by structuring the data. This is an important step in EDA, as it allows you to glean valuable and interesting insights about the data afterwards.\n",
        "\n",
        "To begin, sort the data so that you can get insights about when the companies were founded. Consider whether it would make sense to sort in ascending or descending order based on what you would like to find."
      ],
      "metadata": {
        "id": "1ZqTQXEN9WbW",
        "azdata_cell_guid": "a30eca4a-7541-4b2d-9bc1-c4c169a55241"
      }
    },
    {
      "cell_type": "code",
      "source": [
        "# Sort `companies` and display the first 10 rows of the resulting DataFrame.\n",
        "\n",
        "### YOUR CODE HERE ###\n",
        "\n",
        "# To arrange the data from latest to earliest `Year Founded`\n",
        "companies.sort_values(by=\"Year Founded\", ascending=False).head(10)\n"
      ],
      "metadata": {
        "id": "sjWPuI-xKDat",
        "azdata_cell_guid": "1c2b8b0e-0197-4f9f-9d43-022603cc28fe",
        "language": "python"
      },
      "outputs": [],
      "execution_count": null
    },
    {
      "cell_type": "markdown",
      "source": [
        "<details>\n",
        "  <summary><h4><strong>Hint 1</strong></h4></summary>\n",
        "\n",
        "Refer to [the content about exploratory data analysis in Python](https://www.coursera.org/learn/go-beyond-the-numbers-translate-data-into-insight/lecture/kfl9b/find-stories-using-the-six-exploratory-data-analysis-practices).\n",
        "\n",
        "</details>"
      ],
      "metadata": {
        "id": "STL5Rkc9AbZE",
        "jp-MarkdownHeadingCollapsed": true,
        "tags": [],
        "azdata_cell_guid": "687a8f53-c1fd-4f45-bac2-5197037cdf4e"
      }
    },
    {
      "cell_type": "markdown",
      "source": [
        "<details>\n",
        "  <summary><h4><strong>Hint 2</strong></h4></summary>\n",
        "\n",
        "Use the function in `pandas` that allows you to sort a DataFrame along a specific column.\n",
        "\n",
        "</details>"
      ],
      "metadata": {
        "id": "_n2d45jEAbZF",
        "jp-MarkdownHeadingCollapsed": true,
        "tags": [],
        "azdata_cell_guid": "6c9fcee7-f3c4-4f29-878e-72b8daf6a979"
      }
    },
    {
      "cell_type": "markdown",
      "source": [
        "<details>\n",
        "  <summary><h4><strong>Hint 3</strong></h4></summary>\n",
        "\n",
        "Use the `sort_values()` function, specifying the `by` parameter as the name of the column that you want to sort by and the `ascending` parameter as needed. Note that by default, `ascending` is set to `True`. If you want to sort in descending order, specify the `ascending` parameter as `False`.\n",
        "\n",
        "</details>"
      ],
      "metadata": {
        "id": "0glE3KHwAbZG",
        "jp-MarkdownHeadingCollapsed": true,
        "tags": [],
        "azdata_cell_guid": "15b8c3c5-3fb8-41f2-89fa-d10fffa31887"
      }
    },
    {
      "cell_type": "markdown",
      "source": [
        "**Question:** What do you observe from the sorting that you performed?\n",
        "\n",
        "- If you sorted by `Year Founded` in descending order and displayed the first 10 rows of the resulting DataFrame, you might observe the following:\n",
        "  - These 10 rows correspond to unicorn companies that were founded in 2021.\n",
        "  - These 10 companies were founded in different parts of the world and belong to different industries.\n",
        "  - Many of these 10 companies were founded in the United States and belong to \"Fintech,\" \"E-commerce & direct-to-consumer,\" and \"Internet software & services\" industries."
      ],
      "metadata": {
        "id": "quCKIWjC_PZr",
        "azdata_cell_guid": "33e4b0af-5224-4b93-a69d-cdfdf02ddeda"
      }
    },
    {
      "cell_type": "markdown",
      "source": [
        "**Question:** Which library would you use to get the count of each distinct value in the `Year Founded` column?\n",
        "\n",
        "- Use a function from the `pandas` library to get the count of each distinct value in the `Year Founded` column. Each count would indicate how many companies in the dataset were founded in the corresponding year."
      ],
      "metadata": {
        "id": "k9_pE69KFqUR",
        "azdata_cell_guid": "463cff8c-5bf9-4485-a14f-798ea1aee646"
      }
    },
    {
      "cell_type": "markdown",
      "source": [
        "### Determine the number of companies founded each year\n",
        "\n",
        "Find out how many companies in this dataset were founded each year. Make sure to display each unique `Year Founded` that occurs in the dataset, and for each year, a number that represents how many companies were founded then."
      ],
      "metadata": {
        "id": "95ICE9dXHWZY",
        "azdata_cell_guid": "083280b5-5811-4fbf-b9a6-0643e71a6b40"
      }
    },
    {
      "cell_type": "code",
      "source": [
        "# Display each unique year that occurs in the dataset\n",
        "# along with the number of companies that were founded in each unique year.\n",
        "\n",
        "### YOUR CODE HERE ###\n",
        "\n",
        "companies[\"Year Founded\"].value_counts().sort_values(ascending=False)\n"
      ],
      "metadata": {
        "id": "_ZzafpsJ_VQ_",
        "azdata_cell_guid": "306f26a9-93ea-4542-9c98-1200b9543d9b",
        "language": "python"
      },
      "outputs": [],
      "execution_count": null
    },
    {
      "cell_type": "markdown",
      "source": [
        "<details>\n",
        "  <summary><h4><strong>Hint 1</strong></h4></summary>\n",
        "\n",
        "Refer to [the content about exploratory data analysis in Python](https://www.coursera.org/learn/go-beyond-the-numbers-translate-data-into-insight/lecture/kfl9b/find-stories-using-the-six-exploratory-data-analysis-practices).\n",
        "\n",
        "</details>"
      ],
      "metadata": {
        "id": "nBZVJaWxJsKm",
        "jp-MarkdownHeadingCollapsed": true,
        "tags": [],
        "azdata_cell_guid": "8fd70ff7-85f1-46e2-9e65-76cf8aaf86d9"
      }
    },
    {
      "cell_type": "markdown",
      "source": [
        "<details>\n",
        "  <summary><h4><strong>Hint 2</strong></h4></summary>\n",
        "\n",
        "Use the function in `pandas` that allows you to get the count for each distinct value in a specific column.\n",
        "\n",
        "</details>"
      ],
      "metadata": {
        "id": "eGDXI8HcJsKo",
        "jp-MarkdownHeadingCollapsed": true,
        "tags": [],
        "azdata_cell_guid": "4f6a9d01-30e5-4b76-b4e9-7705b73194c1"
      }
    },
    {
      "cell_type": "markdown",
      "source": [
        "<details>\n",
        "  <summary><h4><strong>Hint 3</strong></h4></summary>\n",
        "\n",
        "Use the `value_counts()` function on the `Year Founded` column.\n",
        "\n",
        "</details>"
      ],
      "metadata": {
        "id": "cDwQaEkwJsKo",
        "jp-MarkdownHeadingCollapsed": true,
        "tags": [],
        "azdata_cell_guid": "5d311e95-3480-4b3f-8b77-81fdc79df608"
      }
    },
    {
      "cell_type": "markdown",
      "source": [
        "**Question:** What do you observe from the counts of the unique `Year Founded` values in the dataset?\n",
        "\n",
        "- `2015` has the highest count. This indicates that `2015` is the year when the largest number of companies in this dataset were founded."
      ],
      "metadata": {
        "id": "rpMFZQqpJYW6",
        "azdata_cell_guid": "3c4bfbb2-279c-4a8b-83cc-775c2da74ede"
      }
    },
    {
      "cell_type": "markdown",
      "source": [
        "**Question:** What kind of graph represents the counts of samples based on a particular feature?\n",
        "\n",
        "- A histogram is a graphical representation of a frequency distribution, which shows how frequently each value in a dataset or variable occurs."
      ],
      "metadata": {
        "azdata_cell_guid": "cbd7d7b0-a4de-4e0f-aac1-d6453d0ee220",
        "id": "WWMiwMfrzka-"
      }
    },
    {
      "cell_type": "markdown",
      "source": [
        "Plot a histogram of the `Year Founded` feature."
      ],
      "metadata": {
        "azdata_cell_guid": "aae1b61d-5e91-4050-915d-883bb4fe4ca7",
        "id": "uINoZNXdzka-"
      }
    },
    {
      "cell_type": "code",
      "source": [
        "sns.histplot(data=companies, x='Year Founded')\n",
        "plt.title('Year Founded histogram');"
      ],
      "metadata": {
        "azdata_cell_guid": "5708b418-7fd1-4e4c-af4f-95576a08de6b",
        "language": "python",
        "id": "xkq9j9Hgzka_"
      },
      "outputs": [],
      "execution_count": null
    },
    {
      "cell_type": "markdown",
      "source": [
        "**Question:** If you want to compare when one company joined unicorn status to when another company joined, how would you transform the `Date Joined` column to gain that insight? To answer this question, notice the data types.\n",
        "\n",
        "- Given that the `Date Joined` columns currently has the data type `object`, if you wanted to compare when one company joined unicorn status to when another company joined, it would not be possible to achieve this meaningfully, as is. If this column were transformed so that it had a `datetime` data type instead, then it could be used to meaningfully compare `Date Joined` of one company to another."
      ],
      "metadata": {
        "id": "XzKBLKpOMerv",
        "azdata_cell_guid": "1c74125e-48ff-46a9-9f66-419559f38969"
      }
    },
    {
      "cell_type": "markdown",
      "source": [
        "### Convert the `Date Joined` column to datetime\n",
        "\n",
        "Convert the `Date Joined` column to datetime. This will split each value into year, month, and date components, allowing you to later gain insights about when a company gained unicorn status with respect to each component."
      ],
      "metadata": {
        "id": "94b53c7f-54d8-4d1a-ae07-7c28c2ab8f5b",
        "tags": [],
        "azdata_cell_guid": "ac40dbb5-5d50-4015-884d-c69d9d5e3816"
      }
    },
    {
      "cell_type": "code",
      "source": [
        "# Convert `Date Joined` column to datetime.\n",
        "# Update the column with the converted values.\n",
        "\n",
        "### YOUR CODE HERE ###\n",
        "\n",
        "companies[\"Date Joined\"] = pd.to_datetime(companies[\"Date Joined\"])\n",
        "\n",
        "\n",
        "# Display the data types of the columns in `companies`\n",
        "# to confirm that the update actually took place\n",
        "\n",
        "### YOUR CODE HERE ###\n",
        "\n",
        "companies.dtypes"
      ],
      "metadata": {
        "id": "afe607c8-9dd7-47c3-9fc8-88772f015e2b",
        "azdata_cell_guid": "cef1dcc4-66e7-4d9a-a1ed-c42d286582e9",
        "language": "python"
      },
      "outputs": [],
      "execution_count": null
    },
    {
      "cell_type": "markdown",
      "source": [
        "<details>\n",
        "  <summary><h4><strong>Hint 1</strong></h4></summary>\n",
        "\n",
        "Refer to [the content about datetime transformations in Python](https://www.coursera.org/learn/go-beyond-the-numbers-translate-data-into-insight/supplement/ZcM4z/reference-guide-datetime-manipulation).\n",
        "\n",
        "</details>"
      ],
      "metadata": {
        "id": "ouhV8x_wP5uJ",
        "jp-MarkdownHeadingCollapsed": true,
        "tags": [],
        "azdata_cell_guid": "911c4dba-64f7-4c3c-9fb2-559d443ac4a7"
      }
    },
    {
      "cell_type": "markdown",
      "source": [
        "<details>\n",
        "  <summary><h4><strong>Hint 2</strong></h4></summary>\n",
        "\n",
        "Use the function in `pandas` that allows you to convert an object to datetime format.\n",
        "\n",
        "Use the property that DataFrames have that can be used to display the data types of the columns.\n",
        "\n",
        "</details>"
      ],
      "metadata": {
        "id": "mhYA5bwIP5uL",
        "jp-MarkdownHeadingCollapsed": true,
        "tags": [],
        "azdata_cell_guid": "a1f8cdea-8c8d-4a94-b62e-4d5db5b7f52b"
      }
    },
    {
      "cell_type": "markdown",
      "source": [
        "<details>\n",
        "  <summary><h4><strong>Hint 3</strong></h4></summary>\n",
        "\n",
        "Use the `to_datetime()` function on the `Date Joined` column.\n",
        "\n",
        "Make sure to update the column by reassigning to the result of the function call mentioned previously.\n",
        "\n",
        "Use the `dtypes` property to get the data types of the columns in `companies`.\n",
        "\n",
        "</details>"
      ],
      "metadata": {
        "id": "Y9ipjYInP5uM",
        "jp-MarkdownHeadingCollapsed": true,
        "tags": [],
        "azdata_cell_guid": "dde7844b-9c40-477e-b73e-abdf04df9f6b"
      }
    },
    {
      "cell_type": "markdown",
      "source": [
        "**Question:** How would you obtain the names of the months when companies gained unicorn status?\n",
        "\n",
        "- Now that the `Date Joined` column is in datetime format, extract the month name from each each value in `Date Joined`. This helps obtain the names of the months when companies attained unicorn status."
      ],
      "metadata": {
        "id": "8Gl70TvPVDsO",
        "azdata_cell_guid": "b0543ad6-ccb8-42b2-8949-21f6d191dee7"
      }
    },
    {
      "cell_type": "markdown",
      "source": [
        "### Create a `Month Joined` column\n",
        "\n",
        "Obtain the names of the months when companies gained unicorn status, and use the result to create a `Month Joined` column."
      ],
      "metadata": {
        "id": "ae351a97-926e-40af-91e2-4bd12a5bf888",
        "tags": [],
        "azdata_cell_guid": "caaf9e98-8692-4ad5-8fca-8e3d5854e597"
      }
    },
    {
      "cell_type": "code",
      "source": [
        "# Obtain the names of the months when companies gained unicorn status.\n",
        "# Use the result to create a `Month Joined` column.\n",
        "\n",
        "### YOUR CODE HERE ###\n",
        "\n",
        "companies[\"Month Joined\"] = companies[\"Date Joined\"].dt.month_name()\n",
        "\n",
        "\n",
        "# Display the first few rows of `companies`\n",
        "# to confirm that the new column did get added.\n",
        "\n",
        "### YOUR CODE HERE ###\n",
        "\n",
        "companies.head()"
      ],
      "metadata": {
        "id": "PFBo2wdQU6U1",
        "azdata_cell_guid": "36886d34-aa48-41cf-9e3c-195b31aa9159",
        "language": "python"
      },
      "outputs": [],
      "execution_count": null
    },
    {
      "cell_type": "markdown",
      "source": [
        "<details>\n",
        "  <summary><h4><strong>Hint 1</strong></h4></summary>\n",
        "\n",
        "Refer to [the content about extracting components from datetime objects in Python](https://www.coursera.org/learn/go-beyond-the-numbers-translate-data-into-insight/lecture/Vh13u/use-structuring-methods-to-establish-order-in-your-dataset).\n",
        "\n",
        "</details>"
      ],
      "metadata": {
        "id": "uqVlpsSDYeR1",
        "jp-MarkdownHeadingCollapsed": true,
        "tags": [],
        "azdata_cell_guid": "14358db5-6231-4b6b-bc66-dcaaa2e32144"
      }
    },
    {
      "cell_type": "markdown",
      "source": [
        "<details>\n",
        "  <summary><h4><strong>Hint 2</strong></h4></summary>\n",
        "\n",
        "Use the function in the `pandas` library that contains datetime strings in order to extract the month names.\n",
        "\n",
        "Use the function in the `pandas` library that allows you to display the first few rows of a DataFrame.\n",
        "\n",
        "</details>"
      ],
      "metadata": {
        "id": "VB0tiRB9YeR3",
        "jp-MarkdownHeadingCollapsed": true,
        "tags": [],
        "azdata_cell_guid": "aeebd34f-ffca-4975-a19d-44e88e049b76"
      }
    },
    {
      "cell_type": "markdown",
      "source": [
        "<details>\n",
        "  <summary><h4><strong>Hint 3</strong></h4></summary>\n",
        "\n",
        "Use the `dt.month_name()` function on the `Date Joined` column.\n",
        "\n",
        "Use a pair of square brackets to create a new column. Make sure to specify the name of the new column inside the brackets and assign the column to the result of calling the function mentioned previously.\n",
        "\n",
        "Use the `head()` function to display the first few rows of a DataFrame.\n",
        "\n",
        "</details>"
      ],
      "metadata": {
        "id": "B3o5tPHPYeR5",
        "jp-MarkdownHeadingCollapsed": true,
        "tags": [],
        "azdata_cell_guid": "b1c90894-aa99-4aab-8d57-9ce41c479aa3"
      }
    },
    {
      "cell_type": "markdown",
      "source": [
        "**Question:** Using the `Date Joined` column, how would you determine how many years it took for companies to reach unicorn status?\n",
        "\n",
        "- Given that the `Date Joined` column is in datetime format, extract the year component from `Date Joined` and subtract the `Year Founded` column from it. This difference in years represents how many it years it took for companies to reach unicorn status."
      ],
      "metadata": {
        "id": "W81zWrCE8_Ye",
        "azdata_cell_guid": "03c39a76-a273-4f0a-9619-efc3137638ca"
      }
    },
    {
      "cell_type": "markdown",
      "source": [
        "### Create a `Years To Join` column\n",
        "\n",
        "Determine how many years it took for companies to reach unicorn status, and use the result to create a `Years To Join` column. Adding this to the dataset can help you answer questions you may have about this aspect of the companies."
      ],
      "metadata": {
        "id": "6xTyzHiM8_Yf",
        "tags": [],
        "azdata_cell_guid": "75ed0350-67b1-4cbc-b80c-7d9990276d9b"
      }
    },
    {
      "cell_type": "code",
      "source": [
        "# Determine how many years it took for companies to reach unicorn status.\n",
        "# Use the result to create a `Years To Join` column.\n",
        "\n",
        "### YOUR CODE HERE ###\n",
        "\n",
        "companies[\"Years To Join\"] = companies[\"Date Joined\"].dt.year - companies[\"Year Founded\"]\n",
        "\n",
        "\n",
        "# Display the first few rows of `companies`\n",
        "# to confirm that the new column did get added.\n",
        "\n",
        "### YOUR CODE HERE ###\n",
        "\n",
        "companies.head()"
      ],
      "metadata": {
        "id": "9zK8Q7-v-Bx1",
        "azdata_cell_guid": "a5339a15-b99d-431b-a73b-6b91bc41dcbf",
        "language": "python"
      },
      "outputs": [],
      "execution_count": null
    },
    {
      "cell_type": "markdown",
      "source": [
        "<details>\n",
        "  <summary><h4><strong>Hint 1</strong></h4></summary>\n",
        "\n",
        "Refer to [the content about extracting components from datetime objects in Python](https://www.coursera.org/learn/go-beyond-the-numbers-translate-data-into-insight/lecture/Vh13u/use-structuring-methods-to-establish-order-in-your-dataset).\n",
        "\n",
        "</details>"
      ],
      "metadata": {
        "id": "ruKtgVdWCPxU",
        "jp-MarkdownHeadingCollapsed": true,
        "tags": [],
        "azdata_cell_guid": "08d72098-9c8c-4d7e-b1a1-cffb710efbc9"
      }
    },
    {
      "cell_type": "markdown",
      "source": [
        "<details>\n",
        "  <summary><h4><strong>Hint 2</strong></h4></summary>\n",
        "\n",
        "Use the property in the `pandas` library that contains datetime strings in order to extract the year components.\n",
        "\n",
        "Use the function in the `pandas` library that allows you to display the first few rows of a DataFrame.\n",
        "\n",
        "</details>"
      ],
      "metadata": {
        "id": "1BuXj5ClCPxW",
        "jp-MarkdownHeadingCollapsed": true,
        "tags": [],
        "azdata_cell_guid": "9a717af9-c4a8-4b35-8412-0bc074ebd122"
      }
    },
    {
      "cell_type": "markdown",
      "source": [
        "<details>\n",
        "  <summary><h4><strong>Hint 3</strong></h4></summary>\n",
        "\n",
        "Use the `dt.year` property on the `Date Joined` column to obtain the years that companies became unicorns.\n",
        "\n",
        "Obtain the arithmetic difference elementwise between two series in `pandas` by using the subtraction operator.  \n",
        "\n",
        "Use a pair of square brackets to create a new column. Make sure to specify the name of the new column inside the brackets and assign the column to the result of calling the function mentioned previously.\n",
        "\n",
        "Use the `head()` function can to display the first few rows of a DataFrame.\n",
        "\n",
        "</details>"
      ],
      "metadata": {
        "id": "QOTFxOzDCPxY",
        "jp-MarkdownHeadingCollapsed": true,
        "tags": [],
        "azdata_cell_guid": "752e9b62-cf34-44b8-9e0b-82097077568d"
      }
    },
    {
      "cell_type": "markdown",
      "source": [
        "**Question:** Which year would you like to gain more insight on with respect when companies attained unicorn status, and why?\n",
        "\n",
        "- Get more insight on the year 2021, as that is the most recent year for which there is data available. Trends that took place in 2021 might be similar to trends that will take place in 2022."
      ],
      "metadata": {
        "id": "98YFM1o4-VQ_",
        "azdata_cell_guid": "e78c9689-895a-4423-a077-6b19eb9ebb4f"
      }
    },
    {
      "cell_type": "markdown",
      "source": [
        "### Gain more insight on a specific year\n",
        "\n",
        "To get more insight on the year of that interests you, filter the dataset by that year and save the resulting subset into a new variable."
      ],
      "metadata": {
        "id": "nx-WbHfLCdTd",
        "azdata_cell_guid": "bfcd1927-a83a-404f-8782-a4dfdc18c934"
      }
    },
    {
      "cell_type": "code",
      "source": [
        "# Filter dataset by a year of your interest (in terms of when companies reached unicorn status).\n",
        "# Save the resulting subset in a new variable .\n",
        "\n",
        "### YOUR CODE HERE ###\n",
        "\n",
        "companies_2021 = companies[companies[\"Date Joined\"].dt.year == 2021]\n",
        "\n",
        "\n",
        "# Display the first few rows of the subset to confirm that it was created\n",
        "\n",
        "### YOUR CODE HERE ###\n",
        "\n",
        "companies_2021.head()"
      ],
      "metadata": {
        "id": "5FnSS5fBEUY-",
        "azdata_cell_guid": "4953bddb-93e3-437d-a66a-cda1a5540cec",
        "language": "python"
      },
      "outputs": [],
      "execution_count": null
    },
    {
      "cell_type": "markdown",
      "source": [
        "<details>\n",
        "  <summary><h4><strong>Hint 1</strong></h4></summary>\n",
        "\n",
        "Refer to [the content about structuring data in Python](https://www.coursera.org/learn/go-beyond-the-numbers-translate-data-into-insight/lecture/Vh13u/use-structuring-methods-to-establish-order-in-your-dataset).\n",
        "\n",
        "</details>"
      ],
      "metadata": {
        "id": "9SSCM6ZLHcKA",
        "jp-MarkdownHeadingCollapsed": true,
        "tags": [],
        "azdata_cell_guid": "b4f31e77-c4d9-4912-8009-1a179da7029e"
      }
    },
    {
      "cell_type": "markdown",
      "source": [
        "<details>\n",
        "  <summary><h4><strong>Hint 2</strong></h4></summary>\n",
        "\n",
        "Use the property in the `pandas` library that contains datetime strings in order to extract the year components.\n",
        "\n",
        "Use square brackets to filter a DataFrame in order get a subset of the data. Make sure to specify an appropriate condition inside those brackets. The condition should convey which year you want to filter by. The rows that meet the condition are the rows that will be selected.\n",
        "\n",
        "Use the function in the `pandas` library that allows you to display the first few rows of a DataFrame.\n",
        "\n",
        "</details>"
      ],
      "metadata": {
        "id": "UmyyfKj3HcKC",
        "jp-MarkdownHeadingCollapsed": true,
        "tags": [],
        "azdata_cell_guid": "e54334a9-3dcd-4a78-be86-4e3da14a1be0"
      }
    },
    {
      "cell_type": "markdown",
      "source": [
        "<details>\n",
        "  <summary><h4><strong>Hint 3</strong></h4></summary>\n",
        "\n",
        "Use the `dt.year` property on the `Date Joined` column to obtain the years that companies became unicorns.\n",
        "\n",
        "Make sure to create a new variable and assign it to the subset.\n",
        "\n",
        "Use the `head()` function to display the first few rows of a DataFrame.\n",
        "\n",
        "</details>"
      ],
      "metadata": {
        "id": "3NylFsIDHcKD",
        "jp-MarkdownHeadingCollapsed": true,
        "tags": [],
        "azdata_cell_guid": "7eb12fb6-2510-4b70-868a-e02a3ecdb33f"
      }
    },
    {
      "cell_type": "markdown",
      "source": [
        "**Question:** Using a time interval, how could you observe trends in the companies that became unicorns in one year?\n",
        "\n",
        "- First, identify a time interval of your choice. Then, take the subset that consists of the data for the year of interest, create a column that contains the time interval that each data point belongs to (as needed), group by that column, and count the number of companies that joined per interval.\n",
        "  - For example, if a subset consisted of companies that joined in 2021, create a column that corresponds to week joined, group by week, and count the number of companies that joined per week. This allows the observation of trends over the weeks of 2021."
      ],
      "metadata": {
        "id": "xP7aPBulLnRA",
        "azdata_cell_guid": "1ca87dbe-7a66-48ea-9aff-add4ef655aa8"
      }
    },
    {
      "cell_type": "markdown",
      "source": [
        "### Observe trends over time\n",
        "\n",
        "Implement the structuring approach that you have identified to observe trends over time in the companies that became unicorns for the year that interests you."
      ],
      "metadata": {
        "id": "xMeC4PjILkAP",
        "azdata_cell_guid": "882b6a34-cff1-4b6d-a050-f79459686576"
      }
    },
    {
      "cell_type": "code",
      "source": [
        "# After identifying the time interval that interests you, proceed with the following:\n",
        "# Step 1. Take the subset that you defined for the year of interest.\n",
        "#         Insert a column that contains the time interval that each data point belongs to, as needed.\n",
        "# Step 2. Group by the time interval.\n",
        "#         Aggregate by counting companies that joined per interval of that year.\n",
        "#         Save the resulting DataFrame in a new variable.\n",
        "\n",
        "### YOUR CODE HERE ###\n",
        "\n",
        "# Insert a `Week Joined` column into `companies_2021.`\n",
        "companies_2021.insert(3, \"Week Joined\", companies_2021[\"Date Joined\"].dt.strftime('%Y-W%V'), True)\n",
        "\n",
        "# Group `companies_2021` by `Week Joined`.\n",
        "# Aggregate by counting companies that joined per week of 2021.\n",
        "# Save the resulting DataFrame in a new variable.\n",
        "companies_by_week_2021 = companies_2021.groupby(by=\"Week Joined\")[\"Company\"].count().reset_index().rename(columns={\"Company\":\"Company Count\"})\n",
        "\n",
        "# Display the first few rows of the new DataFrame to confirm that it was created.\n",
        "\n",
        "### YOUR CODE HERE ###\n",
        "\n",
        "companies_by_week_2021.head()\n"
      ],
      "metadata": {
        "id": "RTPw3cRqPUI3",
        "azdata_cell_guid": "77fe9f96-1df0-497f-8e62-7481f16ddee8",
        "language": "python"
      },
      "outputs": [],
      "execution_count": null
    },
    {
      "cell_type": "markdown",
      "source": [
        "<details>\n",
        "  <summary><h4><strong>Hint 1</strong></h4></summary>\n",
        "\n",
        "Refer to [the content about structuring data in Python](https://www.coursera.org/learn/go-beyond-the-numbers-translate-data-into-insight/lecture/Vh13u/use-structuring-methods-to-establish-order-in-your-dataset).\n",
        "\n",
        "</details>"
      ],
      "metadata": {
        "id": "y4o-jE96cL5r",
        "jp-MarkdownHeadingCollapsed": true,
        "tags": [],
        "azdata_cell_guid": "c597a218-314f-474e-83b7-6fdaafa3fbe6"
      }
    },
    {
      "cell_type": "markdown",
      "source": [
        "<details>\n",
        "  <summary><h4><strong>Hint 2</strong></h4></summary>\n",
        "\n",
        "To obtain the data in a specific date format, call a function in the `pandas` library that contains datetime strings.\n",
        "\n",
        "Use a pair of square brackets to add a new column to a DataFrame. Make sure to specify an appropriate column name inside the brackets.\n",
        "\n",
        "Use a pair of square brackets to access a particular column from the result of grouping a DataFrame.\n",
        "\n",
        "Use these functions in the `pandas` library to achieve the following tasks:\n",
        "- Group a DataFrame by a specific column\n",
        "- Count the number of rows that belong to each group\n",
        "- Reset the index so that the column that you grouped on also appears as a column after the grouping (instead of remaining an index)\n",
        "- Rename columns in a DataFrame\n",
        "- Display the first few rows of a DataFrame\n",
        "\n",
        "</details>"
      ],
      "metadata": {
        "id": "KpYfJ_etcL5t",
        "jp-MarkdownHeadingCollapsed": true,
        "tags": [],
        "azdata_cell_guid": "55564b59-184e-45bf-ada8-06f08b116346"
      }
    },
    {
      "cell_type": "markdown",
      "source": [
        "<details>\n",
        "  <summary><h4><strong>Hint 3</strong></h4></summary>\n",
        "\n",
        "Use `dt.strftime('%Y-W%V')` on the `Date Joined` column to obtain the weeks that companies became unicorns.\n",
        "\n",
        "Use these functions in `pandas` to acheive the following tasks:\n",
        "- `groupby()` to group a DataFrame by a specific column\n",
        "- `count()` to count the number of rows that belong to each group\n",
        "- `reset_index()` to reset the index so that the column that you grouped on also appears as a column after the grouping (instead of remaining an index)\n",
        "- `rename()` to rename the columns in a DataFrame\n",
        "- `head()` to display the first few rows of a DataFrame\n",
        "\n",
        "</details>"
      ],
      "metadata": {
        "id": "fO62guTzcL5v",
        "jp-MarkdownHeadingCollapsed": true,
        "tags": [],
        "azdata_cell_guid": "8992bc85-cfa5-4ada-adc9-987ec281e1ff"
      }
    },
    {
      "cell_type": "markdown",
      "source": [
        "**Question:** How would you structure the data to observe trends in the average valuation of companies from 2020 to 2021?  \n",
        "\n",
        "- One approach consists of the following:\n",
        "  - Choose a time interval over which you want to observe average valuation.\n",
        "  - Create a subset of data that corresponds to the additional year. Concatenate that subset with the previous subset you created, in order to get the data for both years in one DataFrame.\n",
        "  - Create a column that contains the time interval that each data point belongs to (as needed), group by that column, and compute the average funding of companies that joined per interval.\n",
        "- To compare trends in average valuation of companies quarterly between 2021 and 2020, if you already had a subset for 2021, you could do the following:\n",
        "- Create a subset for 2020.\n",
        "- Concatenate that with the subset for 2020.\n",
        "- Create a column that corresponds to quarter joined.\n",
        "- Group by quarter.\n",
        "- Compute the average valuation of companies that joined per quarter.\n",
        "\n",
        "This allows the observation of trends over the quarters of 2020 compared to 2021."
      ],
      "metadata": {
        "id": "vAPjV24TA7lA",
        "azdata_cell_guid": "c05e9124-8373-4b08-b5bb-c94ce2b7e374"
      }
    },
    {
      "cell_type": "markdown",
      "source": [
        "### Compare trends over time\n",
        "\n",
        "Implement the structuring approach that you have identified in order to compare trends over time in the average valuation of companies that became unicorns between your years of interest. Keep in mind the data type of the `Valuation` column and what the values in that column contain currently."
      ],
      "metadata": {
        "id": "5vGITCLaA7lC",
        "azdata_cell_guid": "ea3af69d-6aad-47db-b216-c1e7e8ace8f6"
      }
    },
    {
      "cell_type": "code",
      "source": [
        "# After identifying the additional year and time interval of interest, proceed with the following:\n",
        "# Step 1. Filter by the additional year to create a subset that consists of companies that joined in that year.\n",
        "# Step 2. Concatenate that new subset with the subset that you defined previously.\n",
        "# Step 3. As needed, add a column that contains the time interval that each data point belongs to,\n",
        "#         in the concatenated DataFrame.\n",
        "# Step 4. Transform the `Valuation` column as needed.\n",
        "# Step 5. Group by the time interval.\n",
        "#         Aggregate by computing average valuation of companies that joined per interval of the corresponding year.\n",
        "#         Save the resulting DataFrame in a new variable.\n",
        "\n",
        "### YOUR CODE HERE ###\n",
        "\n",
        "# Filter by the additional year to create a subset that consists of companies that joined in that year.\n",
        "companies_2020 = companies[companies[\"Date Joined\"].dt.year == 2020]\n",
        "\n",
        "# Concatenate the new subset with the subset that you defined previously.\n",
        "companies_2020_2021 = pd.concat([companies_2020, companies_2021.drop(columns=\"Week Joined\")])\n",
        "\n",
        "# Add `Quarter Joined` column to `companies_2021`.\n",
        "companies_2020_2021[\"Quarter Joined\"] = companies_2020_2021[\"Date Joined\"].dt.to_period('Q').dt.strftime('%Y-Q%q')\n",
        "\n",
        "# Convert the `Valuation` column to numeric by removing `$` and `B` and casting each value to data type `float`.\n",
        "companies_2020_2021[\"Valuation\"] =  companies_2020_2021[\"Valuation\"].str.strip(\"$B\").astype(float)\n",
        "\n",
        "# Group `companies_2020_2021` by `Quarter Joined`,\n",
        "# Aggregate by computing average `Funding` of companies that joined per quarter of each year.\n",
        "# Save the resulting DataFrame in a new variable.\n",
        "companies_by_quarter_2020_2021 = companies_2020_2021.groupby(by=\"Quarter Joined\")[\"Valuation\"].mean().reset_index().rename(columns={\"Valuation\":\"Average Valuation\"})\n",
        "\n",
        "# Display the first few rows of the new DataFrame to confirm that it was created.\n",
        "\n",
        "### YOUR CODE HERE ###\n",
        "\n",
        "companies_by_quarter_2020_2021.head()\n"
      ],
      "metadata": {
        "id": "pQ3sXSbaA7lD",
        "azdata_cell_guid": "0f916a20-e94d-4a04-929a-4bba7e78fe31",
        "language": "python"
      },
      "outputs": [],
      "execution_count": null
    },
    {
      "source": [
        "# @title Quarter Joined vs Quarter Number\n",
        "\n",
        "from matplotlib import pyplot as plt\n",
        "import seaborn as sns\n",
        "import pandas as pd\n",
        "plt.subplots(figsize=(8, 8))\n",
        "df_2dhist = pd.DataFrame({\n",
        "    x_label: grp['Quarter Number'].value_counts()\n",
        "    for x_label, grp in companies_by_quarter_2020_2021.groupby('Quarter Joined')\n",
        "})\n",
        "sns.heatmap(df_2dhist, cmap='viridis')\n",
        "plt.xlabel('Quarter Joined')\n",
        "_ = plt.ylabel('Quarter Number')"
      ],
      "cell_type": "code",
      "execution_count": null,
      "outputs": [],
      "metadata": {
        "id": "i3nvGFu_Kp9k"
      }
    },
    {
      "source": [
        "# @title Average Valuation\n",
        "\n",
        "from matplotlib import pyplot as plt\n",
        "companies_by_quarter_2020_2021['Average Valuation'].plot(kind='line', figsize=(8, 4), title='Average Valuation')\n",
        "plt.gca().spines[['top', 'right']].set_visible(False)"
      ],
      "cell_type": "code",
      "execution_count": null,
      "outputs": [],
      "metadata": {
        "id": "I_DcMx4ZKemW"
      }
    },
    {
      "cell_type": "markdown",
      "source": [
        "<details>\n",
        "  <summary><h4><strong>Hint 1</strong></h4></summary>\n",
        "\n",
        "Refer to [the content about manipulating data in Python](https://www.coursera.org/learn/go-beyond-the-numbers-translate-data-into-insight/lecture/0GjvK/date-string-manipulations-with-python).\n",
        "\n",
        "</details>"
      ],
      "metadata": {
        "id": "VViEGDGXA7lE",
        "jp-MarkdownHeadingCollapsed": true,
        "tags": [],
        "azdata_cell_guid": "6176b674-e1ef-45bf-bc6b-9413250cd7f0"
      }
    },
    {
      "cell_type": "markdown",
      "source": [
        "<details>\n",
        "  <summary><h4><strong>Hint 2</strong></h4></summary>\n",
        "\n",
        "To obtain the data in a specific periodic datetime format, call a function in the `pandas` library that contains datetime strings.   \n",
        "\n",
        "Keep in mind that currently, the `Valuation` column is of data type `object` and contains `$` and `B` to indicate that each amount is in billions of dollars.\n",
        "\n",
        "Call functions in the `pandas` library on a series to achieve the following tasks:\n",
        "  - Apply a function to each value in the series.\n",
        "  - Cast each value in the series to a specified data type.\n",
        "\n",
        "Use a pair of square brackets to access a particular column from the result of grouping a DataFrame.\n",
        "\n",
        "These functions in the `pandas` library can help achieve the following tasks:\n",
        "- Concatenate two DataFrames together\n",
        "- Drop columns that you do not need from a DataFrame\n",
        "- Group a DataFrame by a specific column\n",
        "- Compute the average value for each group\n",
        "- Reset the index so that the column that you grouped on also appears as a column after the grouping (instead of remaining an index)\n",
        "- Rename columns in a DataFrame\n",
        "- Display the first few rows of a DataFrame\n",
        "\n",
        "</details>"
      ],
      "metadata": {
        "id": "E5i-Aq3yA7lF",
        "jp-MarkdownHeadingCollapsed": true,
        "tags": [],
        "azdata_cell_guid": "a88efc6d-e37d-48d0-93b1-125be5629fc0"
      }
    },
    {
      "cell_type": "markdown",
      "source": [
        "<details>\n",
        "  <summary><h4><strong>Hint 3</strong></h4></summary>\n",
        "\n",
        "Use `.dt.to_period('Q').dt.strftime('%Y-Q%q')` on the `Date Joined` column to obtain the quarters during which companies became unicorns.\n",
        "\n",
        "Convert the `Valuation` column to numeric by removing `$` and `B` and casting each value to data type `float`.\n",
        "\n",
        "Use the following functions in `pandas` to acheive the following tasks:\n",
        "- `concat` to concatenate two DataFrames together (note: this function takes in a list of DataFrames and returns a DataFrame that contains all rows from both inputs)\n",
        "- `drop()` to drop columns that you do not need from a DataFrame\n",
        "- `groupby()` to group a DataFrame by a specific column\n",
        "- `mean()` to compute the average value for each group\n",
        "- `reset_index()` to reset the index so that the column that you grouped on also appears as a column after the grouping (instead of remaining an index)\n",
        "- `rename()` to rename the columns in a DataFrame\n",
        "- `head()` to display the first few rows of a DataFrame\n",
        "\n",
        "</details>"
      ],
      "metadata": {
        "id": "WHAk-lqGA7lH",
        "jp-MarkdownHeadingCollapsed": true,
        "tags": [],
        "azdata_cell_guid": "c979306e-a4de-4e02-8ced-b755923df0e5"
      }
    },
    {
      "cell_type": "markdown",
      "source": [
        "## Step 3: Time-to-unicorn visualization\n",
        "\n",
        "### Visualize the time it took companies to become unicorns\n",
        "\n",
        "As a next step, visualize your data. Using the `companies` dataset, create a box plot to visualize the distribution of how long it took companies to become unicorns, with respect to the month they joined."
      ],
      "metadata": {
        "id": "-Z9xHIMjIQ9x",
        "azdata_cell_guid": "e41ae959-db61-44a2-9c9a-06f5fcac05a9"
      }
    },
    {
      "cell_type": "code",
      "source": [
        "# Define a list that contains months in chronological order.\n",
        "\n",
        "### YOUR CODE HERE ###\n",
        "\n",
        "month_order = [\"January\", \"February\", \"March\", \"April\", \"May\", \"June\",\n",
        "               \"July\", \"August\", \"September\", \"October\", \"November\",\n",
        "               \"December\"]\n",
        "\n",
        "# Print out the list to confirm it is correct.\n",
        "\n",
        "### YOUR CODE HERE ###\n",
        "\n",
        "print(month_order)\n"
      ],
      "metadata": {
        "id": "4GT0qtPUIlzD",
        "azdata_cell_guid": "4c3e6222-8929-4b35-a5a8-e47ed649d0c1",
        "language": "python"
      },
      "outputs": [],
      "execution_count": null
    },
    {
      "cell_type": "code",
      "source": [
        "# Create the box plot to visualize the distribution of how long it took companies to become unicorns, with respect to the month they joined.\n",
        "# Make sure the x-axis goes in chronological order by month, using the list you defined previously.\n",
        "# Plot the data from the `companies` DataFrame.\n",
        "\n",
        "### YOUR CODE HERE ###\n",
        "\n",
        "sns.boxplot(x=companies['Month Joined'],\n",
        "            y=companies['Years To Join'],\n",
        "            order=month_order,\n",
        "            showfliers=False)\n",
        "\n",
        "# Set the title of the plot.\n",
        "\n",
        "### YOUR CODE HERE ###\n",
        "\n",
        "plt.title('Distribution of years to become unicorn with respect to month joined')\n",
        "\n",
        "# Rotate labels on the x-axis as a way to avoid overlap in the positions of the text.\n",
        "\n",
        "### YOUR CODE HERE ###\n",
        "\n",
        "plt.xticks(rotation=45, horizontalalignment='right')\n",
        "\n",
        "# Display the plot.\n",
        "\n",
        "### YOUR CODE HERE ###\n",
        "\n",
        "plt.show()\n"
      ],
      "metadata": {
        "id": "7V-NPXUCIhCT",
        "azdata_cell_guid": "4e13e4d0-7fab-4c19-95b5-802ab6a2efd6",
        "language": "python"
      },
      "outputs": [],
      "execution_count": null
    },
    {
      "cell_type": "markdown",
      "source": [
        "<details>\n",
        "  <summary><h4><strong>Hint 1</strong></h4></summary>\n",
        "\n",
        "Refer to [the content about creating a box plot](https://www.coursera.org/learn/go-beyond-the-numbers-translate-data-into-insight/lecture/Pf6KW/eda-structuring-with-python).\n",
        "\n",
        "</details>"
      ],
      "metadata": {
        "id": "h87KDAzQNhJH",
        "jp-MarkdownHeadingCollapsed": true,
        "tags": [],
        "azdata_cell_guid": "a05b59d2-7f1e-433b-aff8-1deb6bfe1934"
      }
    },
    {
      "cell_type": "markdown",
      "source": [
        "<details>\n",
        "  <summary><h4><strong>Hint 2</strong></h4></summary>\n",
        "\n",
        "Use the function in the `seaborn` library that allows you to create a box plot.\n",
        "\n",
        "Use the functions in the `matplotlib.pyplot` module that allow you to acheive the following tasks:\n",
        "- set the title of a plot\n",
        "- rotate labels on the x-axis of a plot\n",
        "- display a plot\n",
        "\n",
        "</details>"
      ],
      "metadata": {
        "id": "aZBJ8VOrNhJI",
        "jp-MarkdownHeadingCollapsed": true,
        "tags": [],
        "azdata_cell_guid": "1df2899b-a1c6-4d04-8a5e-7e178dcaac45"
      }
    },
    {
      "cell_type": "markdown",
      "source": [
        "<details>\n",
        "  <summary><h4><strong>Hint 3</strong></h4></summary>\n",
        "\n",
        "Use the `boxplot()` function from `seaborn` to create a box plot, passing in the parameters `x`, `y`, `order`, and `showfliers`. To keep outliers from appearing on the box plot, set `showfliers` to `False`.\n",
        "\n",
        "Use following functions to achieve the following tasks:\n",
        "- `plt.title()` to set the title of a plot\n",
        "- `plt.xticks()` to rotate labels on the x-axis of a plot\n",
        "- pass in the parameters `rotation=45, horizontalalignment='right'`to rotate the labels by 45 degrees and align the labels to the right\n",
        "- `plt.show()` to display a plot\n",
        "\n",
        "</details>"
      ],
      "metadata": {
        "id": "GPdd3MfDNhJK",
        "jp-MarkdownHeadingCollapsed": true,
        "tags": [],
        "azdata_cell_guid": "11930ee8-5740-42ee-b428-866c825ce512"
      }
    },
    {
      "cell_type": "markdown",
      "source": [
        " **Question:** In the preceding box plot, what do you observe about the median value for `Years To Join` for each month?\n",
        "\n",
        "- In the preceding box plot, the median value for `Years To Join` is different for each month. Also, the median `Years To Join` is lower for the months of September and October. This could indicate that companies that reached unicorn status in early fall took less time to reach $1 billion valuation. This is because the number of companies is relatively close/consistent for each month. If that were not the case, it would be misleading to compare the median values from the box plots between months."
      ],
      "metadata": {
        "id": "hJhdI_Y7LK8e",
        "azdata_cell_guid": "61b2e06b-1103-4a0c-a784-9196930d7506"
      }
    },
    {
      "cell_type": "markdown",
      "source": [
        "## Step 4: Results and evaluation\n"
      ],
      "metadata": {
        "id": "gq9Syq-Cq1zb",
        "azdata_cell_guid": "27daa01c-a337-4810-b4bc-3737cc4b2110"
      }
    },
    {
      "cell_type": "markdown",
      "source": [
        "### Visualize the time it took companies to reach unicorn status\n",
        "\n",
        "In this section, you will evaluate the result of structuring the data, making observations, and gaining further insights about the data.\n",
        "\n",
        "Using the `companies` dataset, create a bar plot to visualize the average number of years it took companies to reach unicorn status with respect to when they were founded."
      ],
      "metadata": {
        "id": "10beff64-16e0-464d-93f0-03ab61f7069b",
        "tags": [],
        "azdata_cell_guid": "d869ff7a-9d55-4263-8af7-5f310887231c"
      }
    },
    {
      "cell_type": "code",
      "source": [
        "# Set the size of the plot.\n",
        "\n",
        "### YOUR CODE HERE ###\n",
        "\n",
        "plt.figure(figsize=(10,6))\n",
        "\n",
        "\n",
        "# Create bar plot to visualize the average number of years it took companies to reach unicorn status\n",
        "# with respect to when they were founded.\n",
        "# Plot data from the `companies` DataFrame.\n",
        "\n",
        "### YOUR CODE HERE ###\n",
        "\n",
        "sns.barplot(x=companies[\"Year Founded\"], y=companies[\"Years To Join\"], ci=False)\n",
        "\n",
        "\n",
        "# Set title\n",
        "\n",
        "### YOUR CODE HERE ###\n",
        "\n",
        "plt.title(\"Bar plot of years to join with respect to year founded\")\n",
        "\n",
        "\n",
        "# Set x-axis label\n",
        "\n",
        "### YOUR CODE HERE ###\n",
        "\n",
        "plt.xlabel(\"Year founded\")\n",
        "\n",
        "\n",
        "# Set y-axis label\n",
        "\n",
        "### YOUR CODE HERE ###\n",
        "\n",
        "plt.ylabel(\"Years to join unicorn status\")\n",
        "\n",
        "\n",
        "# Rotate the labels on the x-axis as a way to avoid overlap in the positions of the text.\n",
        "\n",
        "### YOUR CODE HERE ###\n",
        "\n",
        "plt.xticks(rotation=45, horizontalalignment='right')\n",
        "\n",
        "# Display the plot.\n",
        "\n",
        "### YOUR CODE HERE ###\n",
        "\n",
        "plt.show()"
      ],
      "metadata": {
        "id": "1153ca76-f1e3-4fea-a2db-a5de23614abd",
        "azdata_cell_guid": "f9de8c52-579f-4b8b-92ef-da177bef89ff",
        "language": "python"
      },
      "outputs": [],
      "execution_count": null
    },
    {
      "cell_type": "markdown",
      "source": [
        "<details>\n",
        "  <summary><h4><strong>Hint 1</strong></h4></summary>\n",
        "\n",
        "Refer to [the content about creating a bar plot](https://www.coursera.org/learn/go-beyond-the-numbers-translate-data-into-insight/lecture/0GjvK/date-string-manipulations-with-python).\n",
        "\n",
        "</details>"
      ],
      "metadata": {
        "id": "MWYLsImtOmaU",
        "jp-MarkdownHeadingCollapsed": true,
        "tags": [],
        "azdata_cell_guid": "ea39e238-c876-4aef-b260-239ac9ef102d"
      }
    },
    {
      "cell_type": "markdown",
      "source": [
        "<details>\n",
        "  <summary><h4><strong>Hint 2</strong></h4></summary>\n",
        "\n",
        "Use the function in the `seaborn` library that allows you to create a bar plot where the height of each bar is the average value for the corresponding category, by default.\n",
        "\n",
        "Use the functions in the `matplotlib.pyplot` module that allow you to set the size, title, x-axis label, and y-axis label of plots. In that module, there are also functions for rotating the labels on the x-axis and displaying the plot.\n",
        "\n",
        "</details>"
      ],
      "metadata": {
        "id": "Na6eMkR8OmaW",
        "jp-MarkdownHeadingCollapsed": true,
        "tags": [],
        "azdata_cell_guid": "7d490a09-f5a2-42be-88ac-064640150d5d"
      }
    },
    {
      "cell_type": "markdown",
      "source": [
        "<details>\n",
        "  <summary><h4><strong>Hint 3</strong></h4></summary>\n",
        "\n",
        "Use the `barplot()` function from `seaborn`, passing in the parameters `x`, `y`, and `ci`. To keep confidence interval lines from appearing on the bar plot,  set `ci` to `False`.\n",
        "\n",
        "Use `plt.figure()`, passing in the `figsize` parameter to set the size of a plot.\n",
        "\n",
        "Use `plt.title()`, `plt.xlabel()`, `plt.ylabel()` to set the title, x-axis label, and y-axis label, respectively.\n",
        "\n",
        "Use `plt.xticks()` to rotate labels on the x-axis of a plot. Paass in the parameters `rotation=45, horizontalalignment='right'` to rotate the labels by 45 degrees and align the labels to the right.\n",
        "\n",
        "Use `plt.show()` to display a plot.\n",
        "\n",
        "</details>"
      ],
      "metadata": {
        "id": "0x0AkrQ_OmaX",
        "jp-MarkdownHeadingCollapsed": true,
        "tags": [],
        "azdata_cell_guid": "5b36c403-57ac-477f-bd42-46fcddc2785b"
      }
    },
    {
      "cell_type": "markdown",
      "source": [
        "**Question:** What trends do you notice in the data? Specifically, consider companies that were founded later on. How long did it take those companies to reach unicorn status?\n",
        "\n",
        "- There appears to be a trend wherein companies that were founded later took less time to reach unicorn status, on average.\n",
        "\n",
        "**Note:** This is a bias that is common in time data—because companies founded in later years have been around for less time. Therefore, there is less time to collect data on such companies compared to companies founded in earlier years).\n"
      ],
      "metadata": {
        "id": "xDwKa-UDOmaX",
        "azdata_cell_guid": "69fa4bf0-69e4-4b12-8f39-d4154b659e48"
      }
    },
    {
      "cell_type": "markdown",
      "source": [
        "### Visualize the number of companies that joined per interval\n",
        "\n",
        "Using the subset of companies joined in the year of interest, grouped by the time interval of your choice, create a bar plot to visualize the number of companies that joined per interval for that year."
      ],
      "metadata": {
        "id": "M9iBEnnStJPJ",
        "azdata_cell_guid": "e5bce4a7-241a-4b42-9350-bb261c8d3957"
      }
    },
    {
      "cell_type": "code",
      "source": [
        "# Set the size of the plot.\n",
        "\n",
        "### YOUR CODE HERE ###\n",
        "\n",
        "plt.figure(figsize = (20, 5))\n",
        "\n",
        "# Create bar plot to visualize number of companies that joined per interval for the year of interest.\n",
        "\n",
        "### YOUR CODE HERE ###\n",
        "\n",
        "plt.bar(x=companies_by_week_2021['Week Joined'],height=companies_by_week_2021['Company Count'])\n",
        "plt.plot()\n",
        "\n",
        "# Set the x-axis label.\n",
        "\n",
        "### YOUR CODE HERE ###\n",
        "\n",
        "plt.xlabel(\"Week number\")\n",
        "\n",
        "# Set the y-axis label.\n",
        "\n",
        "### YOUR CODE HERE ###\n",
        "\n",
        "plt.ylabel(\"Number of companies\")\n",
        "\n",
        "# Set the title.\n",
        "\n",
        "### YOUR CODE HERE ###\n",
        "\n",
        "plt.title(\"Number of companies that became unicorns per week in 2021\")\n",
        "\n",
        "# Rotate the labels on the x-axis as a way to avoid overlap in the positions of the text.\n",
        "\n",
        "### YOUR CODE HERE ###\n",
        "\n",
        "plt.xticks(rotation = 45, horizontalalignment='right', fontsize=8)\n",
        "\n",
        "# Display the plot.\n",
        "\n",
        "### YOUR CODE HERE ###\n",
        "\n",
        "plt.show()"
      ],
      "metadata": {
        "id": "BTdJdubxplHc",
        "azdata_cell_guid": "91eceac6-2335-4eff-86ab-d4ff91862013",
        "language": "python"
      },
      "outputs": [],
      "execution_count": null
    },
    {
      "cell_type": "markdown",
      "source": [
        "<details>\n",
        "  <summary><h4><strong>Hint 1</strong></h4></summary>\n",
        "\n",
        "Refer to [the content about creating a bar plot](https://www.coursera.org/learn/go-beyond-the-numbers-translate-data-into-insight/lecture/0GjvK/date-string-manipulations-with-python).\n",
        "\n",
        "</details>"
      ],
      "metadata": {
        "id": "BtgkB4fVudvo",
        "jp-MarkdownHeadingCollapsed": true,
        "tags": [],
        "azdata_cell_guid": "b1b3c258-11a9-40da-ad69-8c42f4edf0ec"
      }
    },
    {
      "cell_type": "markdown",
      "source": [
        "<details>\n",
        "  <summary><h4><strong>Hint 2</strong></h4></summary>\n",
        "\n",
        "Use the function in the `seaborn` library that allows you to create a bar plot where the height of each bar is the average value for the corresponding category, by default.\n",
        "\n",
        "Use the functions in the `matplotlib.pyplot` module that allow you to set the size, title, x-axis label, and y-axis label of plots. In that module, there are also functions for rotating the labels on the x-axis and displaying the plot.\n",
        "\n",
        "</details>"
      ],
      "metadata": {
        "id": "bHCMc83Nudvq",
        "jp-MarkdownHeadingCollapsed": true,
        "tags": [],
        "azdata_cell_guid": "7c2efec2-7815-4cd6-9604-6069064c2264"
      }
    },
    {
      "cell_type": "markdown",
      "source": [
        "<details>\n",
        "  <summary><h4><strong>Hint 3</strong></h4></summary>\n",
        "\n",
        "Use the `barplot()` function from `seaborn`, passing in the parameters `x`, `y`, and `ci`. To keep confidence interval lines from appearing on the bar plot,  set `ci` to `False`.\n",
        "\n",
        "Use `plt.figure()`, passing in the `figsize` parameter to set the size of a plot.\n",
        "\n",
        "Use `plt.title()`, `plt.xlabel()`, `plt.ylabel()` to set the title, x-axis label, and y-axis label, respectively.\n",
        "\n",
        "Use `plt.xticks()` to rotate labels on the x-axis of a plot. Paass in the parameters `rotation=45, horizontalalignment='right'` to rotate the labels by 45 degrees and align the labels to the right.\n",
        "\n",
        "Use `plt.show()` to display a plot.\n",
        "\n",
        "</details>"
      ],
      "metadata": {
        "id": "ttH8ynAyudvr",
        "jp-MarkdownHeadingCollapsed": true,
        "tags": [],
        "azdata_cell_guid": "8dbb0cb5-ecbc-4d97-82f8-26fe76d331ba"
      }
    },
    {
      "cell_type": "markdown",
      "source": [
        "**Question:** What do you observe from the bar plot of the number of companies that joined per interval for the year of 2021? When did the highest number of companies reach $1 billion valuation?\n",
        "\n",
        "- Observations from a bar plot of the number of companies that became unicorns per week in 2021:\n",
        "\n",
        "  - The number of companies that joined unicorn status fluctuated over the weeks of 2021, with a trend of decline followed by increase occurring periodically.\n",
        "  - The highest number of companies reached $1 billion valuation in Week 37 of 2021, which corresponds to the third week of September 2021.\n",
        "  - The weeks in 2021 with the next highest number of companies becoming unicorns are Week 12 (which corresponds to the fourth week of March) and Week 28 (which corresponds to the third week of July).\n",
        "  "
      ],
      "metadata": {
        "id": "NEsKdFw8sdMJ",
        "azdata_cell_guid": "f93bf601-e93a-4ffd-8359-6a6bf8a24e23"
      }
    },
    {
      "cell_type": "markdown",
      "source": [
        "### Visualize the average valuation over the quarters\n",
        "\n",
        "Using the subset of companies that joined in the years of interest, create a grouped bar plot to visualize the average valuation over the quarters, with two bars for each time interval. There will be two bars for each time interval. This allows you to compare quarterly values between the two years."
      ],
      "metadata": {
        "id": "izcgBCbZhC4w",
        "azdata_cell_guid": "2835a67f-f71c-41ef-8b5e-58ed40eb627b"
      }
    },
    {
      "cell_type": "code",
      "source": [
        "# Using slicing, extract the year component and the time interval that you specified,\n",
        "# and save them by adding two new columns into the subset.\n",
        "\n",
        "### YOUR CODE HERE ###\n",
        "\n",
        "companies_by_quarter_2020_2021['Quarter Number'] = companies_by_quarter_2020_2021['Quarter Joined'].str[-2:]\n",
        "companies_by_quarter_2020_2021['Year Joined'] = companies_by_quarter_2020_2021['Quarter Joined'].str[:4]\n",
        "\n",
        "# Set the size of the plot.\n",
        "\n",
        "### YOUR CODE HERE ###\n",
        "\n",
        "plt.figure(figsize = (10, 5))\n",
        "\n",
        "# Create a grouped bar plot.\n",
        "\n",
        "### YOUR CODE HERE ###\n",
        "\n",
        "sns.barplot(x=companies_by_quarter_2020_2021['Quarter Number'],\n",
        "            y=companies_by_quarter_2020_2021['Average Valuation'],\n",
        "            hue=companies_by_quarter_2020_2021['Year Joined'])\n",
        "plt.plot()\n",
        "\n",
        "# Set the x-axis label.\n",
        "\n",
        "### YOUR CODE HERE ###\n",
        "\n",
        "plt.xlabel(\"Quarter number\")\n",
        "\n",
        "# Set the y-axis label.\n",
        "\n",
        "### YOUR CODE HERE ###\n",
        "\n",
        "plt.ylabel(\"Average valuation (billions of dollars)\")\n",
        "\n",
        "# Set the title.\n",
        "\n",
        "### YOUR CODE HERE ###\n",
        "\n",
        "plt.title(\"Average valuation of companies that became unicorns per quarter in 2020 vs. 2021\")\n",
        "\n",
        "# Display the plot.\n",
        "\n",
        "### YOUR CODE HERE ###\n",
        "\n",
        "plt.show()"
      ],
      "metadata": {
        "id": "IC1cFf2ci6Q6",
        "azdata_cell_guid": "6e263166-0e03-4083-b450-97e60aa0fa55",
        "language": "python"
      },
      "outputs": [],
      "execution_count": null
    },
    {
      "cell_type": "markdown",
      "source": [
        "<details>\n",
        "  <summary><h4><strong>Hint 1</strong></h4></summary>\n",
        "\n",
        "Refer to [the content about creating a grouped bar plot](https://www.coursera.org/learn/go-beyond-the-numbers-translate-data-into-insight/lecture/Pf6KW/eda-structuring-with-python).\n",
        "\n",
        "</details>"
      ],
      "metadata": {
        "id": "w0EZVbYQp34N",
        "jp-MarkdownHeadingCollapsed": true,
        "tags": [],
        "azdata_cell_guid": "2955b5a2-a396-4cc1-b62e-599ae82f0bcc"
      }
    },
    {
      "cell_type": "markdown",
      "source": [
        "<details>\n",
        "  <summary><h4><strong>Hint 2</strong></h4></summary>\n",
        "\n",
        "Use the function in the `seaborn` library that allows you to create a grouped bar plot, specifying the category and height for each bar, as well as the hue.\n",
        "\n",
        "Use the functions in the `matplotlib.pyplot` module that allow you to set the size, title, x-axis label, and y-axis label of plots. In that module, there is also a function for displaying the plot.\n",
        "\n",
        "</details>"
      ],
      "metadata": {
        "id": "IhQ1sDxUp34O",
        "jp-MarkdownHeadingCollapsed": true,
        "tags": [],
        "azdata_cell_guid": "3725f5f5-a0d5-46d6-86fa-4951e2de1e30"
      }
    },
    {
      "cell_type": "markdown",
      "source": [
        "<details>\n",
        "  <summary><h4><strong>Hint 3</strong></h4></summary>\n",
        "\n",
        "Use the `plt.bar()` to create the bar plot, passing in the parameters `x`, `y`, and `hue`. For the task at hand, set `hue` to the column that contains year joined.\n",
        "\n",
        "Use `plt.figure()`, passing in the `figsize` parameter to set the size of a plot.\n",
        "\n",
        "Use `plt.title()`, `plt.xlabel()`, `plt.ylabel()` to set the title, x-axis label, and y-axis label, respectively.\n",
        "\n",
        "Use `plt.show()` to display a plot.\n",
        "\n",
        "</details>"
      ],
      "metadata": {
        "id": "tH8in0r5p34P",
        "jp-MarkdownHeadingCollapsed": true,
        "tags": [],
        "azdata_cell_guid": "a9a4b855-3e24-4e6f-8ccf-4af18b1e6cab"
      }
    },
    {
      "cell_type": "markdown",
      "source": [
        "**Question:** What do you observe from the preceding grouped bar plot?\n",
        "\n",
        "- Observations from a grouped bar plot of average valuation of companies that became unicorns per quarter in 2020 vs. 2021:\n",
        "\n",
        "  - In each quarter, the average valuation of companies that joined unicorn status was higher in 2020 than in 2021.\n",
        "  - In 2020, Q3 was the quarter with the highest average valuation of companies that reached unicorn status, and there was a trend of increase from Q1 to Q2 and from Q2 to Q3.\n",
        "  - In 2021, Q1 was the quarter with the highest average valuation of companies that reached unicorn status, and there was a trend of decrease across the quarters.\n",
        "  "
      ],
      "metadata": {
        "id": "-JSttrHR4v77",
        "azdata_cell_guid": "14ce8ed8-d5c3-46e9-91ba-df9a2e14aa44"
      }
    },
    {
      "cell_type": "markdown",
      "source": [
        "**Question:** Is there any bias in the data that could potentially inform your analysis?\n",
        "\n",
        "- Potential bias:\n",
        "\n",
        "  - If there were bias in terms of which cities and countries were taken into account when collecting the data, then the analysis would be more representative of the cities and countries that are in the dataset than those that are not.\n",
        "  - If the dataset did not include certain industries, then the analysis would be more representative of the industries that are included and may not reflect trends in those that are excluded from the data.\n",
        "  - If the dataset had time gaps, (e.g., if companies that joined in certain windows of time were not included in the data), then that may have affected the patterns observed, depending on how salient the gaps were.\n",
        "  - Another point of bias pertains to the nature of time data; there have been fewer years to collect data on companies that were founded more recently than for companies that were founded longer ago."
      ],
      "metadata": {
        "id": "CmStN_ox4wSs",
        "azdata_cell_guid": "2c4e5a03-8745-48ec-9e7b-dd0deef51093"
      }
    },
    {
      "cell_type": "markdown",
      "source": [
        "**Question:** What potential next steps could you take with your EDA?\n",
        "\n",
        "- Potential next steps with EDA:\n",
        "\n",
        "  - Analyze the data with respect to industries of unicorn companies at different datetime intervals.\n",
        "  - Analyze the data with respect to cities or countries where unicorn companies were founded at different datetime intervals.\n",
        "  - Clean the data as needed."
      ],
      "metadata": {
        "id": "9EsEVdiGF9XP",
        "azdata_cell_guid": "6e1bbe8b-4b91-4ac9-80ab-c48e68dd5584"
      }
    },
    {
      "cell_type": "markdown",
      "source": [
        "**Question:** Are there any unanswered questions you have about the data? If yes, what are they?\n",
        "\n",
        "- Possible questions:\n",
        "\n",
        "  - How many rounds of funding did each company require and when did this funding take place?\n",
        "  - Have any of these unicorn companies acquired other companies along the way? If so, which companies acquired other companies, which companies did they acquire, and when did the acquisitions take place?"
      ],
      "metadata": {
        "id": "9qPL2qMpIF6g",
        "azdata_cell_guid": "4f27d8b0-d505-4943-9ae1-25c2976f23de"
      }
    },
    {
      "cell_type": "markdown",
      "source": [
        "## Considerations\n",
        "\n",
        "**What are some key takeaways that you learned from this lab?**\n",
        "\n",
        "- Functions in the `pandas` library can be used for data manipulation in order to reorganize and structure the data.\n",
        "- Converting strings that contain dates to datetime format allow you to extract individual components from the data, such as month and year.\n",
        "- Structuring the data in specific ways allows you to observe more trends and zoom in on parts of the data that are interesting to you.\n",
        "- Functions in the `matplotlib.pyplot` module and the `seaborn` library can be used to create visualizations to gain further insight after structuring the data.\n",
        "\n",
        "**What findings would you share with others?**\n",
        "\n",
        "- There are 1074 unicorn companies represented in this dataset.\n",
        "- 2015 is the year when the most number of unicorn companies were founded.\n",
        "- Many of the unicorn companies that were founded in 2021 were founded in the United States and belong to \"Fintech\", \"E-commerce & direct-to-consumer\", and \"Internet software & services\" industries.\n",
        "- The box plot created shows that companies that become unicorns in the months of September and October have a smaller median value for how long it took to become unicorns.\n",
        "- One of the bar plots created shows that the average valuation of companies that joined in 2020 is highest in the third quarter of the year, whereas the average valuation of companies that joined in 2021 is highest in the first quarter of the year.\n",
        "\n",
        "**What recommendations would you share with stakeholders based on these findings?**\n",
        "\n",
        "- According to data analysis that was conducted on a dataset of 1074 unicorn companies, companies that joined in the months of September and October tended to take less time to become unicorns.\n",
        "- Another finding was that many of the unicorn companies that were founded in 2021 were founded in the United States and belong to \"Fintech\", \"E-commerce & direct-to-consumer\", and \"Internet software & services\" industries. So if the stakeholders want to invest in companies founded in 2021, it would be a good idea to consider companies that belong to these industries, as they may be strong candidates for becoming unicorns.\n",
        "- It was also discovered that the average valuation of companies that joined in 2021 is highest in the first quarter of the year, and the average valuation of companies that joined in 2020 is the third quarter of the year. When considering companies that newly join in the future, it would be worth closely looking at companies that join in the first and third quarters of the year.\n",
        "- The data can be analyzed further to gather more insights that are specific to the interests of the investing firm and the stakeholders."
      ],
      "metadata": {
        "id": "c77e7f0f-d2b9-4464-8a7c-9575d1e1ef9f",
        "azdata_cell_guid": "df6a7c85-51f7-4ee9-87f0-2f52286a1efc"
      }
    },
    {
      "cell_type": "markdown",
      "source": [
        "**References**\n",
        "\n",
        "Bhat, M.A. (2022, March).[*Unicorn Companies*](https://www.kaggle.com/datasets/mysarahmadbhat/unicorn-companies).\n"
      ],
      "metadata": {
        "id": "R9sAADZgr-YI",
        "azdata_cell_guid": "061ee67f-9148-481c-a359-04c4c343044a"
      }
    },
    {
      "cell_type": "markdown",
      "source": [
        "**Congratulations!** You've completed this lab. However, you may not notice a green check mark next to this item on Coursera's platform. Please continue your progress regardless of the check mark. Just click on the \"save\" icon at the top of this notebook to ensure your work has been logged."
      ],
      "metadata": {
        "azdata_cell_guid": "031fdf39-85e9-47d8-8c0b-278517b1718d",
        "id": "JR3jsPnbzkbS"
      }
    }
  ]
}